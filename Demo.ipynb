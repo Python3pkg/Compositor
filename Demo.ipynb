{
 "metadata": {
  "name": "",
  "signature": "sha256:5b057152c9e772feec9ae9abb1bbb946cb45a3c1942ab3509d85b712496cb5e4"
 },
 "nbformat": 3,
 "nbformat_minor": 0,
 "worksheets": [
  {
   "cells": [
    {
     "cell_type": "code",
     "collapsed": false,
     "input": [
      "%pylab --no-import-all inline\n",
      "\n",
      "import Compositor\n",
      "import ImagePreprocessor\n",
      "import FontRenderer\n",
      "from Palettes import alpha_numeric, symbols\n",
      "from PIL import Image\n",
      "import urllib\n",
      "import cStringIO\n",
      "\n",
      "\n",
      "def get_image_from_url(url):\n",
      "    f = cStringIO.StringIO(urllib.urlopen(url).read())\n",
      "    img = Image.open(f)\n",
      "    return img"
     ],
     "language": "python",
     "metadata": {},
     "outputs": [
      {
       "output_type": "stream",
       "stream": "stdout",
       "text": [
        "Populating the interactive namespace from numpy and matplotlib\n"
       ]
      }
     ],
     "prompt_number": 27
    },
    {
     "cell_type": "code",
     "collapsed": false,
     "input": [
      "# Some simple setup...\n",
      "imageProc = ImagePreprocessor.ImagePreprocessor(scale=3.15)\n",
      "monaco24Renderer = FontRenderer.FontRenderer(font=FontRenderer.monaco(24))\n",
      "compositor = Compositor.Compositor(imageProc, monaco24Renderer)"
     ],
     "language": "python",
     "metadata": {},
     "outputs": [],
     "prompt_number": 38
    },
    {
     "cell_type": "code",
     "collapsed": false,
     "input": [
      "# ... et voila!\n",
      "python_logo = get_image_from_url(\"https://www.python.org/static/community_logos/python-logo-master-v3-TM.png\")\n",
      "print ''.join(compositor.render_text_composite(source_images[1], alpha_numeric + symbols))"
     ],
     "language": "python",
     "metadata": {},
     "outputs": [
      {
       "output_type": "stream",
       "stream": "stdout",
       "text": [
        "\n",
        "                                                                                                                              \n",
        "                                                                                                                              \n",
        "                                                                                                                              \n",
        "                        .~~==~~_                                              `8                                              \n",
        "                      ,z*\"zooooo!\\                                      ~    {!8                                <~; ;         \n",
        "                      {o`oooooz!!!                                     S!    {!8                                  K*x         \n",
        "                  .<xxxxxxxxx!!!!!;ww>          ~m,*=m.   .m      xm  m*!nm  {!8.<mom.     <^*\\m..    .:^f*n~                 \n",
        "                 Aoooooooo!!!!!!!!{WWWW,      ;!}    \\!e  :!      z!   S!    {!J*`  *!^  /!/   `8!   !3   `\\!z                \n",
        "                 ooooooo!!!!!!!!j\"@WWWWW      ;!}     z!  :!      z!   S!    {!8     !o  !b      !z  !B     !!                \n",
        "                 oooooj(wwwwwwwwWWWWWWWW      ;!}     x!' :!      z!   S!    {!8     !o '!D      !!  !B     !!                \n",
        "                 zo!!!QWWWWWWWWWWWWWWWW*      ;!}     !!  ;!:     z!   S!    {!8     !o  U!     .!*  !B     !!                \n",
        "                 .x!!!QWWWWWWWWWWWWWWWW       ;!Gz>=n!J`   !!z>=mjj!   '!^~  {!8     !o   x!=~~^y:   !B     !!                \n",
        "                      {WWWWWwwwwww            ;!}  `          `   x!       `                 `                                \n",
        "                      <WWWWWWW/ VW            ;!}                _!/                                                          \n",
        "                       ^WWWWWWWWW`            :j}             ^fx~                                                            \n",
        "                     ,,>~<wwwwwwy~,,                          `                                                               \n",
        "                  <@@@@@@@@%%%%@@@@@@@%                                                                                       \n",
        "                   **@@@@%%@@@%%@@@@@*`                                                                                       \n",
        "                                                                                                                              \n",
        "                                                                                                                              \n",
        "                                                                                                                              \n"
       ]
      }
     ],
     "prompt_number": 37
    }
   ],
   "metadata": {}
  }
 ]
}